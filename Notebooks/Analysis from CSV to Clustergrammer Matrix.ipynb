{
 "cells": [
  {
   "cell_type": "code",
   "execution_count": null,
   "metadata": {},
   "outputs": [],
   "source": [
    "#Import required functions\n",
    "import GEOparse\n",
    "import pandas as pd\n",
    "import numpy as np\n",
    "import os\n",
    "import json\n",
    "from sklearn.preprocessing import quantile_transform\n",
    "from sklearn.decomposition import PCA\n",
    "import warnings\n",
    "from scipy.stats import chi2\n",
    "from scipy.stats.mstats import zscore\n",
    "import time\n",
    "#Time sleep to prevent crashes\n",
    "time.sleep(1)\n",
    "#Change this to your working directory\n",
    "os.chdir('../Data')\n",
    "os.chdir('../Scripts')\n",
    "from microarray_analysis import *"
   ]
  },
  {
   "cell_type": "code",
   "execution_count": null,
   "metadata": {},
   "outputs": [],
   "source": [
    "#Read metadata file\n",
    "metadata = pd.read_csv('../Data/example_metadata.csv')\n",
    "metadata"
   ]
  },
  {
   "cell_type": "markdown",
   "metadata": {},
   "source": [
    "## In the for loop below, please change the labels of your metadata to fit your csv"
   ]
  },
  {
   "cell_type": "code",
   "execution_count": null,
   "metadata": {
    "scrolled": true
   },
   "outputs": [],
   "source": [
    "#Run analysis over studies in the metadata file, printing a list of the up and down genes\n",
    "up_data = {}\n",
    "dn_data = {}\n",
    "for i in range(0,len(metadata.index)):\n",
    "    accession_id = metadata.iloc[i]['GEO Accession Number']\n",
    "    control_samples = metadata.iloc[i]['Control Samples']\n",
    "    treated_samples = metadata.iloc[i]['Treated Samples']\n",
    "    cell_type = str(metadata.iloc[i]['Cell Type'])\n",
    "    phys = str(metadata.iloc[i]['Altered Condition'])\n",
    "    drug = str(metadata.iloc[i]['Drug Name'])\n",
    "    gene = str(metadata.iloc[i]['Name of the Perturbed Gene'])\n",
    "    gene_type = str(metadata.iloc[i]['Gene Alteration'])\n",
    "    platform = str(metadata.iloc[i]['GEO Platform'])\n",
    "    metadata_list = [platform, cell_type, phys, drug, gene, gene_type]\n",
    "    control_samples = control_samples.split(',')\n",
    "    control_samples = [c.strip(' ') for c in control_samples]\n",
    "    treated_samples = treated_samples.split(',')\n",
    "    treated_samples = [t.strip(' ') for t in treated_samples]\n",
    "    DEGs = micro_analysis(accession_id, control_samples, treated_samples)\n",
    "    up_genes, dn_genes = DEGs\n",
    "    up_data[accession_id + ' ' + str(metadata_list) + ' up'] = up_genes\n",
    "    dn_data[accession_id + str(metadata_list) + ' dn'] = dn_genes\n",
    "    print(up_data, dn_data)"
   ]
  },
  {
   "cell_type": "code",
   "execution_count": null,
   "metadata": {},
   "outputs": [],
   "source": [
    "#Define Jaccard Index function from Megan's code\n",
    "def jaccardIndex(listA,listB):\n",
    "    intersection = len(set(listA) & set(listB))\n",
    "    JI = intersection/(len(listA)+len(listB)-intersection)\n",
    "    return(JI)"
   ]
  },
  {
   "cell_type": "code",
   "execution_count": null,
   "metadata": {},
   "outputs": [],
   "source": [
    "#Merged up and down data\n",
    "all_data = merge(up_data, dn_data)\n",
    "all_data"
   ]
  },
  {
   "cell_type": "code",
   "execution_count": null,
   "metadata": {},
   "outputs": [],
   "source": [
    "#Extract labels from lists of up/down genes\n",
    "all_terms = [k for k,v in all_data.items()] "
   ]
  },
  {
   "cell_type": "code",
   "execution_count": null,
   "metadata": {},
   "outputs": [],
   "source": [
    "#Set up matrix store the calculations of the Jaccard indices\n",
    "matrix = []\n",
    "\n",
    "for term1 in all_terms:\n",
    "    geneset1 = all_data[term1]\n",
    "    row = []\n",
    "    for term2 in all_terms:\n",
    "        geneset2 = all_data[term2]\n",
    "        sim_score = jaccardIndex(geneset1,geneset2)\n",
    "        row.append(sim_score)\n",
    "    matrix.append(row)       "
   ]
  },
  {
   "cell_type": "code",
   "execution_count": null,
   "metadata": {},
   "outputs": [],
   "source": [
    "# Final version of the desired format of  labels\n",
    "final_terms = []\n",
    "for term in all_terms:\n",
    "    accession = term.split('[')[0].strip()\n",
    "    platform = term.split('[')[1].split(', ')[0].replace(\"'\",'')\n",
    "    cell_line = term.split('[')[1].split(', ')[1].replace(\"'\",'')\n",
    "    physical_alt = term.split('[')[1].split(', ')[2].replace(\"'\",'')\n",
    "    chemical_alt = term.split('[')[1].split(', ')[3].replace(\"'\",'')\n",
    "    genetic_alt = term.split('[')[1].split(', ')[4].replace(\"'\",'')\n",
    "    genetic_alt_type = term.split('[')[1].split(', ')[5].split(']')[0].replace(\"'\",'')\n",
    "    updown = term.split('] ')[1]\n",
    "#Customize which categories of metadata to include on the labels\n",
    "    final_terms.append(list(['Accession: ' + str(accession), 'Cell Line: ' + str(cell_line), 'Up/Down: ' + str(updown),\n",
    "                            'Platform: ' + str(platform), 'Physical Alteration: ' + str(physical_alt),\n",
    "                            'Chemical Alteration: ' + str(chemical_alt), 'Genetic Alteration: ' + str(genetic_alt) + str(genetic_alt_type)])) \n",
    "    "
   ]
  },
  {
   "cell_type": "code",
   "execution_count": null,
   "metadata": {},
   "outputs": [],
   "source": [
    "#Visualize labels\n",
    "final_terms"
   ]
  },
  {
   "cell_type": "code",
   "execution_count": null,
   "metadata": {},
   "outputs": [],
   "source": [
    "#Make a tab-delimited file\n",
    "clustergrammer_output = open('../jaccard_clustergrammer_autophagy.tsv','w')\n",
    "#Number of categories of metadata used, e.g. Accession ID, Cell Line, or Up/Down\n",
    "categories = 7\n",
    "#Shift columns to make room for row labels and write columns\n",
    "for cat in range(0,categories):\n",
    "    clustergrammer_output.write('\\t'*categories + '\\t'.join([x[cat] for x in final_terms]) + '\\n')\n",
    "#Write rows and input jaccard indices   \n",
    "for i in range(0, len(matrix)):\n",
    "    clustergrammer_output.write(final_terms[i][0] + '\\t' + final_terms[i][1] + '\\t' + final_terms[i][2] + '\\t' + final_terms[i][3] + '\\t'+ final_terms[i][4] + '\\t'+ final_terms[i][5] + '\\t'+ final_terms[i][6] + '\\t' + '\\t'.join([str(x) for x in matrix[i]]) + '\\n')\n",
    "\n",
    "clustergrammer_output.close()"
   ]
  }
 ],
 "metadata": {
  "kernelspec": {
   "display_name": "Python 3",
   "language": "python",
   "name": "python3"
  },
  "language_info": {
   "codemirror_mode": {
    "name": "ipython",
    "version": 3
   },
   "file_extension": ".py",
   "mimetype": "text/x-python",
   "name": "python",
   "nbconvert_exporter": "python",
   "pygments_lexer": "ipython3",
   "version": "3.6.8"
  }
 },
 "nbformat": 4,
 "nbformat_minor": 2
}
